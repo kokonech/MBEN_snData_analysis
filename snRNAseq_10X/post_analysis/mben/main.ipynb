{
 "cells": [
  {
   "attachments": {},
   "cell_type": "markdown",
   "id": "48b5738b-fe59-4197-b006-23578f86deca",
   "metadata": {
    "tags": []
   },
   "source": [
    "# MBEN & Decoupler\n",
    "Decoupler is an ensemble of methods to infer biological activity. \n",
    "\n",
    "Used prior knowledge: \n",
    "- Dorothea for transcription factor analysis, derived from Omnipath via Decoupler.\n",
    "\n",
    "Activities and mean activities are calculated with Decoupler for the dataset 'all_t', which contains only tumor samples. \n",
    "Plots for both results can be generated.  \n",
    "\n",
    "Furthermore, this notebook initializes both, the Decoupler and the Liana analysis by saving the chosen parameters for the analysis. These are set in the file *analysis_params.py*. They are saved as a yaml file which is then used in the analysis. \n"
   ]
  },
  {
   "cell_type": "markdown",
   "id": "171c418f-064d-48aa-a82c-0d0dd03f25a6",
   "metadata": {},
   "source": [
    "## Init Script"
   ]
  },
  {
   "cell_type": "code",
   "execution_count": 10,
   "id": "266715d1",
   "metadata": {},
   "outputs": [],
   "source": [
    "import sys\n",
    "import mben\n",
    "from mben import *\n",
    "from os.path import exists\n",
    "from os import makedirs\n",
    "from copy import deepcopy\n",
    "from pathlib import Path\n",
    "from IPython.display import display, Markdown, Latex # to display Markdown in code chunk\n",
    "import sys, logging, logging.config, random, re, numba, dill, json, yaml\n",
    "import scanpy as sc, numpy as np, matplotlib.pyplot as plt, seaborn as sns, matplotlib as mpl, pandas as pd"
   ]
  },
  {
   "cell_type": "code",
   "execution_count": 11,
   "id": "8f3cc649",
   "metadata": {},
   "outputs": [],
   "source": [
    "def print_info(analysis):\n",
    "    \"\"\" Prints basic informatin about the analysis. \"\"\"\n",
    "    display(Markdown('**Analysis Parameters**  '))\n",
    "    print(json.dumps(analysis.analysis_params['default']['decoupler'], indent=4, sort_keys=True, default=str))\n",
    "    display(Markdown('**Paths**  '))\n",
    "    print(json.dumps(analysis.get_paths(), indent=4, sort_keys=True, default=str))"
   ]
  },
  {
   "cell_type": "code",
   "execution_count": 12,
   "id": "69b952f6",
   "metadata": {},
   "outputs": [],
   "source": [
    "def save_paths(self):\n",
    "    \"\"\" Saves analysis params together with paths to yaml file. \"\"\"\n",
    "    self.analysis_params['default']['paths'] = self.get_paths()\n",
    "    with open(self.get_paths()['analysispath_local'] / 'analysis_params_paths.yaml', 'w+') as file:\n",
    "        yaml.dump(self.analysis_params, file)\n",
    "    for data in self.datasets:\n",
    "        data.analysis_params['paths'] = data._paths\n",
    "        print(data._paths)\n",
    "        with open(data._paths['analysispath_local'] / data._paths['datasetpath'] / 'analysis_params.yaml', 'w+') as file:\n",
    "            yaml.dump(data.analysis_params, file)"
   ]
  },
  {
   "cell_type": "markdown",
   "id": "57fced65",
   "metadata": {},
   "source": [
    "## Init Analysis"
   ]
  },
  {
   "cell_type": "code",
   "execution_count": 13,
   "id": "4c3c0dbd",
   "metadata": {},
   "outputs": [],
   "source": [
    "# Create Dataset class. It inherits from other classes dynamically.\n",
    "dc_dataset = sc_classes.Analysis.new_dataset(sc_classes.Baseanalysis, dcu.Decoupler) \n",
    "# CAUTION: decoupler use_raw = True"
   ]
  },
  {
   "cell_type": "code",
   "execution_count": null,
   "id": "d0706528",
   "metadata": {},
   "outputs": [],
   "source": [
    "# Init Analysis object\n",
    "analysis = sc_classes.Analysis(proj='MBEN', datasets=[\n",
    "            ('all_t', 'sn', 'human', dc_dataset)\n",
    "            ], version = 'v00')\n",
    "print_info(analysis)\n",
    "scl.analysis = analysis\n",
    "save_paths(analysis)"
   ]
  },
  {
   "cell_type": "markdown",
   "id": "525ffb21",
   "metadata": {},
   "source": [
    "## Decoupler  \n",
    "### Activity estimates  \n",
    "For each dataset the activities are estimated according to the given prior knowledge and decoupler parameters. "
   ]
  },
  {
   "cell_type": "code",
   "execution_count": null,
   "id": "a0a8176b",
   "metadata": {},
   "outputs": [],
   "source": [
    "scl.get_acts()"
   ]
  },
  {
   "cell_type": "code",
   "execution_count": 16,
   "id": "6068512a",
   "metadata": {},
   "outputs": [],
   "source": [
    "# plot umaps for activities\n",
    "#scl.plot_umap()"
   ]
  },
  {
   "cell_type": "markdown",
   "id": "0114a55f",
   "metadata": {},
   "source": [
    "### Mean Activities\n",
    "For each calculated activity the mean activity values are calculated. "
   ]
  },
  {
   "cell_type": "code",
   "execution_count": null,
   "id": "6405b441",
   "metadata": {},
   "outputs": [],
   "source": [
    "scl.get_mean_acts()"
   ]
  },
  {
   "cell_type": "code",
   "execution_count": 18,
   "id": "5048fc58",
   "metadata": {},
   "outputs": [],
   "source": [
    "#scl.plot_mean_acts()\n"
   ]
  }
 ],
 "metadata": {
  "kernelspec": {
   "display_name": "mben-QvIV5JZL-py3.9",
   "language": "python",
   "name": "python3"
  },
  "language_info": {
   "codemirror_mode": {
    "name": "ipython",
    "version": 3
   },
   "file_extension": ".py",
   "mimetype": "text/x-python",
   "name": "python",
   "nbconvert_exporter": "python",
   "pygments_lexer": "ipython3",
   "version": "3.9.15"
  },
  "toc-autonumbering": true,
  "toc-showmarkdowntxt": false,
  "vscode": {
   "interpreter": {
    "hash": "1e4e0435f31ae68df1d8effd35b112664c21375d5567ca0d381f7b85d93ce9ce"
   }
  }
 },
 "nbformat": 4,
 "nbformat_minor": 5
}
